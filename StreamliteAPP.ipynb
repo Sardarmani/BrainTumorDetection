{
 "cells": [
  {
   "cell_type": "code",
   "execution_count": 6,
   "id": "9eaadd4a-a84a-4f1d-af29-3d4d4adfc1dd",
   "metadata": {},
   "outputs": [],
   "source": [
    "import streamlit as st\n",
    "from tensorflow.keras.models import load_model\n",
    "from PIL import Image\n",
    "import numpy as np\n"
   ]
  },
  {
   "cell_type": "code",
   "execution_count": 3,
   "id": "afc5b1a2-9c72-45d7-bae5-b411a2318d2e",
   "metadata": {},
   "outputs": [],
   "source": [
    "model = load_model('brain_tumor_detection_model.h5')"
   ]
  },
  {
   "cell_type": "code",
   "execution_count": 8,
   "id": "a28204ae-4618-43ee-b305-f94a486d95c2",
   "metadata": {},
   "outputs": [],
   "source": [
    "def resize_and_padding(image , target_size):\n",
    "    image.thumbnail(target_size , Image.LANCZOS)\n",
    "    new_image = Image.new(\"RGB\" , target_size ,  (255, 255, 255))\n",
    "    left = (target_size[0] - image.width) // 2\n",
    "    top  = (target_size[1] - image.height) // 2\n",
    "    \n",
    "    new_image.paste(image , (left , top))\n",
    "    \n",
    "    return new_image\n",
    "\n",
    "def rescale(image):\n",
    "    return image / 255.0\n",
    "\n",
    "def normalize_image(image):\n",
    "    mean = np.mean(image)\n",
    "    std = np.std(image)\n",
    "    return (image - mean) / std\n",
    "\n",
    "def convert_to_array(image):\n",
    "    return np.array(image)\n",
    "\n"
   ]
  },
  {
   "cell_type": "code",
   "execution_count": 9,
   "id": "0a8623cd-0beb-4321-9bc3-16e50777000e",
   "metadata": {},
   "outputs": [],
   "source": [
    "def predict(image):\n",
    "    image = resize_and_padding(image, (224, 224))  # Ensure the target size matches your model's input\n",
    "    image = convert_to_array(image)\n",
    "    image = rescale(image)\n",
    "    image = normalize_image(image)\n",
    "    image = np.expand_dims(image, axis=0)  # Add batch dimension\n",
    "    prediction = model.predict(image)\n",
    "    return 'Tumor' if prediction[0] > 0.5 else 'No Tumor'"
   ]
  },
  {
   "cell_type": "code",
   "execution_count": 10,
   "id": "c8132299-03c6-411a-89d2-cdcbc37f7b44",
   "metadata": {},
   "outputs": [
    {
     "name": "stderr",
     "output_type": "stream",
     "text": [
      "2024-07-29 15:17:06.575 \n",
      "  \u001b[33m\u001b[1mWarning:\u001b[0m to view this Streamlit app on a browser, run it with the following\n",
      "  command:\n",
      "\n",
      "    streamlit run /home/sardar/anaconda3/lib/python3.10/site-packages/ipykernel_launcher.py [ARGUMENTS]\n"
     ]
    }
   ],
   "source": [
    "def main():\n",
    "    st.title(\"Brain Tumor Detection\")\n",
    "    \n",
    "    st.write(\"Upload an MRI image for prediction.\")\n",
    "    \n",
    "    uploaded_file = st.file_uploader(\"Choose an image...\", type=[\"jpg\", \"png\", \"jpeg\"])\n",
    "    \n",
    "    if uploaded_file is not None:\n",
    "        image = Image.open(uploaded_file).convert('RGB')\n",
    "        st.image(image, caption='Uploaded Image.', use_column_width=True)\n",
    "        st.write(\"\")\n",
    "        st.write(\"Classifying...\")\n",
    "        \n",
    "        # Predict\n",
    "        result = predict(image)\n",
    "        \n",
    "        # Show the result\n",
    "        st.write(f\"Prediction: {result}\")\n",
    "\n",
    "if __name__ == \"__main__\":\n",
    "    main()"
   ]
  },
  {
   "cell_type": "code",
   "execution_count": null,
   "id": "85dfd9e3-08f3-4221-a2de-04b3db1470a7",
   "metadata": {},
   "outputs": [],
   "source": []
  }
 ],
 "metadata": {
  "kernelspec": {
   "display_name": "Python 3 (ipykernel)",
   "language": "python",
   "name": "python3"
  },
  "language_info": {
   "codemirror_mode": {
    "name": "ipython",
    "version": 3
   },
   "file_extension": ".py",
   "mimetype": "text/x-python",
   "name": "python",
   "nbconvert_exporter": "python",
   "pygments_lexer": "ipython3",
   "version": "3.10.9"
  }
 },
 "nbformat": 4,
 "nbformat_minor": 5
}
